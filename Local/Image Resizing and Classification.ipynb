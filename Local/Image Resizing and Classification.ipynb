{
 "cells": [
  {
   "cell_type": "markdown",
   "id": "08dfc225",
   "metadata": {},
   "source": [
    "## __CNN Resnet para la clasificación de cultivos de palma de aceite en Colombia__\n",
    "\n",
    "El presente notebook realiza la redimensión de las imágenes satelitales extraidas para que queden con un tamaño de 256x256 px."
   ]
  },
  {
   "cell_type": "code",
   "execution_count": 7,
   "id": "9271f4d4",
   "metadata": {},
   "outputs": [],
   "source": [
    "import os\n",
    "from PIL import Image\n",
    "\n",
    "# Define el directorio de origen y destino\n",
    "#src_dir = \"C:\\\\PalmOilDataSet\\\\Images\\\\Test\\\\PalmOil\"\n",
    "#dst_dir = \"C:\\\\PalmOilDataSet\\\\Images256\\\\Test\\\\PalmOil\"\n",
    "\n",
    "src_dir = \"C:\\PalmOilDataSet\\ExternalValidation\"\n",
    "dst_dir = \"C:\\PalmOilDataSet\\ExternalValidation256\"\n",
    "\n",
    "# Define el nuevo tamaño de imagen\n",
    "new_size = (256, 256)\n",
    "\n",
    "# Itera a través de cada imagen en el directorio de origen\n",
    "for filename in os.listdir(src_dir):\n",
    "    # Abre la imagen y redimensiona a un nuevo tamaño\n",
    "    img = Image.open(os.path.join(src_dir, filename))\n",
    "    img = img.resize(new_size, resample=Image.BILINEAR)\n",
    "\n",
    "    # Guarda la imagen redimensionada en el directorio de destino\n",
    "    img.save(os.path.join(dst_dir, filename))"
   ]
  },
  {
   "cell_type": "markdown",
   "id": "5167d68f",
   "metadata": {},
   "source": [
    "En el siguiente codigo se realiza una clasificación con una función randos, de tal forma que nos quede del total de la información : Data para entrenamiento train, data para la validación en el momento de entrenamiento de la red neuronal validation, y data para Test cuando la CNN ya ha sido entrenada. "
   ]
  },
  {
   "cell_type": "code",
   "execution_count": 4,
   "id": "5d68d63d",
   "metadata": {},
   "outputs": [],
   "source": [
    "import os\n",
    "import random\n",
    "import shutil\n",
    "from sklearn.model_selection import train_test_split\n",
    "\n",
    "# Ruta de la carpeta original\n",
    "carpeta_original = 'C:/PalmOilDataSet/NOTPalmOil'\n",
    "\n",
    "# Ruta de las carpetas de salida\n",
    "carpeta_train = 'C:/PalmOilDataSet/final/train/NOTPalmOil'\n",
    "carpeta_validation = 'C:/PalmOilDataSet/final/validation/NOTPalmOil'\n",
    "carpeta_test = 'C:/PalmOilDataSet/final/test/NOTPalmOil'\n",
    "\n",
    "# Porcentaje para cada conjunto (train, validation, test)\n",
    "porcentaje_train = 0.7\n",
    "porcentaje_validation = 0.2\n",
    "porcentaje_test = 0.1\n",
    "\n",
    "# Obtener la lista de imágenes en la carpeta original\n",
    "imagenes = os.listdir(carpeta_original)\n",
    "\n",
    "# Dividir las imágenes en conjuntos de entrenamiento y prueba\n",
    "imagenes_train, imagenes_test = train_test_split(imagenes, test_size=porcentaje_test, random_state=42)\n",
    "\n",
    "# Dividir las imágenes de entrenamiento en conjuntos de entrenamiento y validación\n",
    "imagenes_train, imagenes_validation = train_test_split(imagenes_train, test_size=porcentaje_validation/(porcentaje_train+porcentaje_validation), random_state=42)\n",
    "\n",
    "# Crear las carpetas de salida si no existen\n",
    "os.makedirs(carpeta_train, exist_ok=True)\n",
    "os.makedirs(carpeta_validation, exist_ok=True)\n",
    "os.makedirs(carpeta_test, exist_ok=True)\n",
    "\n",
    "# Mover las imágenes a las carpetas correspondientes\n",
    "for imagen in imagenes_train:\n",
    "    shutil.copy(os.path.join(carpeta_original, imagen), carpeta_train)\n",
    "\n",
    "for imagen in imagenes_validation:\n",
    "    shutil.copy(os.path.join(carpeta_original, imagen), carpeta_validation)\n",
    "\n",
    "for imagen in imagenes_test:\n",
    "    shutil.copy(os.path.join(carpeta_original, imagen), carpeta_test)"
   ]
  },
  {
   "cell_type": "code",
   "execution_count": null,
   "id": "e27ae29c",
   "metadata": {},
   "outputs": [],
   "source": [
    "import os\n",
    "import shutil\n",
    "import random\n",
    "\n",
    "\n",
    "def delete_files_in_directory(directory):\n",
    "    for file in os.listdir(directory):\n",
    "        file_path = os.path.join(directory, file)\n",
    "        if os.path.isfile(file_path):\n",
    "            os.unlink(file_path)\n",
    "\n",
    "def split_images_into_train_test(source, test_path, train_path, test_count):\n",
    "    # List all files in the specified folder\n",
    "    images = os.listdir(source)\n",
    "\n",
    "    # Select random images for the test set\n",
    "    test_images = random.sample(images, test_count)\n",
    "\n",
    "    # Copy the selected images to the test set\n",
    "    for image in test_images:\n",
    "        shutil.copy(os.path.join(source, image), os.path.join(test_path, image))\n",
    "\n",
    "    # Copy the remaining images to the train set\n",
    "    for image in images:\n",
    "        if image not in test_images:\n",
    "            shutil.copy(os.path.join(source, image), os.path.join(train_path, image))\n"
   ]
  },
  {
   "cell_type": "code",
   "execution_count": null,
   "id": "9031e11e",
   "metadata": {},
   "outputs": [],
   "source": []
  }
 ],
 "metadata": {
  "kernelspec": {
   "display_name": "Python 3 (ipykernel)",
   "language": "python",
   "name": "python3"
  },
  "language_info": {
   "codemirror_mode": {
    "name": "ipython",
    "version": 3
   },
   "file_extension": ".py",
   "mimetype": "text/x-python",
   "name": "python",
   "nbconvert_exporter": "python",
   "pygments_lexer": "ipython3",
   "version": "3.7.4"
  }
 },
 "nbformat": 4,
 "nbformat_minor": 5
}
